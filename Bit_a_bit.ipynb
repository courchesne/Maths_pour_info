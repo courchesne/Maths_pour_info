{
 "cells": [
  {
   "cell_type": "markdown",
   "metadata": {},
   "source": [
    "Sur un système Linux, disons qu'un fichier **myfile** a les permissions rwxrw_r__, ce qui correspond à la chaîne de bits 111 110 100. En base 8, on peut écrire 764. En base 10, ça donne:"
   ]
  },
  {
   "cell_type": "code",
   "execution_count": 24,
   "metadata": {},
   "outputs": [
    {
     "name": "stdout",
     "output_type": "stream",
     "text": [
      "500\n"
     ]
    }
   ],
   "source": [
    "r = int('764',8)\n",
    "print(r)"
   ]
  },
  {
   "cell_type": "markdown",
   "metadata": {},
   "source": [
    "Le nombre 55 repésente donc les permissions de **myfile**. Si on fait la commande **chmod g+x myfile**, on va donner au groupe la permission d'exécuter le fichier. Pour faire le changement dans le registre **r** de 9 bits, il faut activer son 4e bit:"
   ]
  },
  {
   "cell_type": "code",
   "execution_count": 25,
   "metadata": {},
   "outputs": [
    {
     "name": "stdout",
     "output_type": "stream",
     "text": [
      "8\n"
     ]
    }
   ],
   "source": [
    "m1 = (int('000001000',2))\n",
    "print(m1)"
   ]
  },
  {
   "cell_type": "code",
   "execution_count": 26,
   "metadata": {},
   "outputs": [
    {
     "name": "stdout",
     "output_type": "stream",
     "text": [
      "508\n",
      "0b111111100\n"
     ]
    }
   ],
   "source": [
    "r = r|m1\n",
    "print(r)\n",
    "print(bin(r))"
   ]
  },
  {
   "cell_type": "markdown",
   "metadata": {},
   "source": [
    "Le registre r contient donc les permissions **rwxrwxr__**.\n",
    "Maintenant, si on veut empêcher quiconque de modifier le fichier **myfile**:"
   ]
  },
  {
   "cell_type": "code",
   "execution_count": 27,
   "metadata": {},
   "outputs": [
    {
     "name": "stdout",
     "output_type": "stream",
     "text": [
      "365\n"
     ]
    }
   ],
   "source": [
    " m2 = (int('101101101',2))\n",
    "print(m2)"
   ]
  },
  {
   "cell_type": "code",
   "execution_count": 28,
   "metadata": {},
   "outputs": [
    {
     "name": "stdout",
     "output_type": "stream",
     "text": [
      "364\n",
      "0b101101100\n"
     ]
    }
   ],
   "source": [
    "r = r&m2\n",
    "print(r)\n",
    "print(bin(r))"
   ]
  },
  {
   "cell_type": "markdown",
   "metadata": {},
   "source": [
    "Le registre r contient finalement les permissons **r_xr_xr__**."
   ]
  },
  {
   "cell_type": "code",
   "execution_count": null,
   "metadata": {},
   "outputs": [],
   "source": []
  }
 ],
 "metadata": {
  "kernelspec": {
   "display_name": "Python 3",
   "language": "python",
   "name": "python3"
  },
  "language_info": {
   "codemirror_mode": {
    "name": "ipython",
    "version": 3
   },
   "file_extension": ".py",
   "mimetype": "text/x-python",
   "name": "python",
   "nbconvert_exporter": "python",
   "pygments_lexer": "ipython3",
   "version": "3.7.3"
  }
 },
 "nbformat": 4,
 "nbformat_minor": 2
}
