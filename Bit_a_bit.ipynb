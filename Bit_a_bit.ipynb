{
 "cells": [
  {
   "cell_type": "markdown",
   "metadata": {},
   "source": [
    "# Pour isoler un bit à l'aide d'un masque"
   ]
  },
  {
   "cell_type": "code",
   "execution_count": 4,
   "metadata": {},
   "outputs": [
    {
     "name": "stdout",
     "output_type": "stream",
     "text": [
      "0\n",
      "32\n",
      "Le bit 5 dans la représentation binaire de 123 vaut 1\n"
     ]
    }
   ],
   "source": [
    "m = 1<<5 # Création du masque qui laissera passer le bit 5\n",
    "\n",
    "a = 0b1010001\n",
    "print(a&m)\n",
    "b = 123\n",
    "print(b&m)\n",
    "if b&m: # Vrai si b&m est non nul\n",
    "    print('Le bit 5 dans la représentation binaire de 123 vaut 1')\n",
    "else:   # Ici, b&m serait nul\n",
    "    print('Le bit 5 dans la représentation binaire de 123 vaut 0')"
   ]
  },
  {
   "cell_type": "code",
   "execution_count": 5,
   "metadata": {},
   "outputs": [
    {
     "data": {
      "text/plain": [
       "'0b1111011'"
      ]
     },
     "execution_count": 5,
     "metadata": {},
     "output_type": "execute_result"
    }
   ],
   "source": [
    "bin(123)"
   ]
  },
  {
   "cell_type": "markdown",
   "metadata": {},
   "source": [
    "# Complément à 2"
   ]
  },
  {
   "cell_type": "code",
   "execution_count": 6,
   "metadata": {},
   "outputs": [
    {
     "data": {
      "text/plain": [
       "-142"
      ]
     },
     "execution_count": 6,
     "metadata": {},
     "output_type": "execute_result"
    }
   ],
   "source": [
    "~142 + 1"
   ]
  },
  {
   "cell_type": "markdown",
   "metadata": {},
   "source": [
    "# Interchanger 2 variables (Swap)"
   ]
  },
  {
   "cell_type": "code",
   "execution_count": 8,
   "metadata": {},
   "outputs": [
    {
     "name": "stdout",
     "output_type": "stream",
     "text": [
      "571\n",
      "257\n"
     ]
    }
   ],
   "source": [
    "a = 257\n",
    "b = 571\n",
    "a = a^b\n",
    "b = a^b\n",
    "a = a^b\n",
    "print(a)\n",
    "print(b)"
   ]
  },
  {
   "cell_type": "code",
   "execution_count": null,
   "metadata": {},
   "outputs": [],
   "source": []
  },
  {
   "cell_type": "markdown",
   "metadata": {},
   "source": [
    "# Permissions de fichier Linux"
   ]
  },
  {
   "cell_type": "markdown",
   "metadata": {},
   "source": [
    "Sur un système Linux, disons qu'un fichier **myfile** a les permissions rwxrw_r__, ce qui correspond à la chaîne de bits 111 110 100. En base 8, ça donne:"
   ]
  },
  {
   "cell_type": "code",
   "execution_count": 13,
   "metadata": {},
   "outputs": [
    {
     "name": "stdout",
     "output_type": "stream",
     "text": [
      "0o764\n"
     ]
    }
   ],
   "source": [
    "r = int('111110100',2)\n",
    "print(oct(r))"
   ]
  },
  {
   "cell_type": "markdown",
   "metadata": {},
   "source": [
    "Le nombre octal 764 repésente donc les permissions de **myfile**. (On peut attribuer ces permissions avec la commande **chmod 764 myfile**.) Si on fait la commande **chmod g+x myfile**, on va donner au groupe la permission d'exécuter le fichier. Pour faire le changement dans le registre **r** de 9 bits, il faut en activer le bit 3:"
   ]
  },
  {
   "cell_type": "code",
   "execution_count": 11,
   "metadata": {},
   "outputs": [
    {
     "name": "stdout",
     "output_type": "stream",
     "text": [
      "0b1000\n"
     ]
    }
   ],
   "source": [
    "#m1 = 0b000001000\n",
    "m1 = 1 << 3\n",
    "print(bin(m1))"
   ]
  },
  {
   "cell_type": "code",
   "execution_count": 14,
   "metadata": {},
   "outputs": [
    {
     "name": "stdout",
     "output_type": "stream",
     "text": [
      "0b111111100\n",
      "0o774\n"
     ]
    }
   ],
   "source": [
    "r = r|m1\n",
    "print(bin(r))\n",
    "print(oct(r))"
   ]
  },
  {
   "cell_type": "markdown",
   "metadata": {},
   "source": [
    "Le registre r contient donc les permissions **rwxrwxr__**.\n",
    "Maintenant, si on veut empêcher quiconque de modifier le fichier **myfile**:"
   ]
  },
  {
   "cell_type": "code",
   "execution_count": 15,
   "metadata": {},
   "outputs": [
    {
     "data": {
      "text/plain": [
       "'0b101101101'"
      ]
     },
     "execution_count": 15,
     "metadata": {},
     "output_type": "execute_result"
    }
   ],
   "source": [
    "# Le '&511' à la fin de la signe suivante sert à conserver seulement\n",
    "# les 9 bits de droite du registre m2. Ce n'est pas de la matière\n",
    "# pour le cours, c'est juste un hack Python.\n",
    "m2=(~((1<<7)|(1<<4)|(1<<1)))&511\n",
    "bin(m2)"
   ]
  },
  {
   "cell_type": "code",
   "execution_count": 16,
   "metadata": {},
   "outputs": [
    {
     "name": "stdout",
     "output_type": "stream",
     "text": [
      "364\n",
      "0b101101100\n"
     ]
    }
   ],
   "source": [
    "r = r&m2\n",
    "print(r)\n",
    "print(bin(r))"
   ]
  },
  {
   "cell_type": "markdown",
   "metadata": {},
   "source": [
    "Le registre r contient finalement les permissons **r_xr_xr__**."
   ]
  }
 ],
 "metadata": {
  "kernelspec": {
   "display_name": "Python 3",
   "language": "python",
   "name": "python3"
  },
  "language_info": {
   "codemirror_mode": {
    "name": "ipython",
    "version": 3
   },
   "file_extension": ".py",
   "mimetype": "text/x-python",
   "name": "python",
   "nbconvert_exporter": "python",
   "pygments_lexer": "ipython3",
   "version": "3.7.7"
  }
 },
 "nbformat": 4,
 "nbformat_minor": 2
}
