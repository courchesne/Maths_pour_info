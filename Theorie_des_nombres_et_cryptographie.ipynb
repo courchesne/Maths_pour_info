{
 "cells": [
  {
   "cell_type": "markdown",
   "metadata": {},
   "source": [
    "## 12.1 - Nombres premiers et PGCD"
   ]
  },
  {
   "cell_type": "markdown",
   "metadata": {},
   "source": [
    "Pour tester si un nombre est premier, on a besoin de tester les diviseurs entre 2 et $\\sqrt{n}$ seulement."
   ]
  },
  {
   "cell_type": "code",
   "execution_count": 11,
   "metadata": {},
   "outputs": [
    {
     "data": {
      "text/plain": [
       "True"
      ]
     },
     "execution_count": 11,
     "metadata": {},
     "output_type": "execute_result"
    }
   ],
   "source": [
    "def est_premier(n):\n",
    "    for d in range(2, int(sqrt(n))+1):\n",
    "        if n%d==0:\n",
    "            return False\n",
    "    return True\n",
    "est_premier(131)"
   ]
  },
  {
   "cell_type": "code",
   "execution_count": 6,
   "metadata": {},
   "outputs": [
    {
     "data": {
      "text/plain": [
       "True"
      ]
     },
     "execution_count": 6,
     "metadata": {},
     "output_type": "execute_result"
    }
   ],
   "source": [
    "is_prime(131)"
   ]
  },
  {
   "cell_type": "markdown",
   "metadata": {},
   "source": [
    "Note: si on a une liste des nombres premiers jusqu'à $\\sqrt{n}$ (ou plus), on peut sauver du temps en testant seulement les diviseurs premiers."
   ]
  },
  {
   "cell_type": "code",
   "execution_count": 35,
   "metadata": {},
   "outputs": [
    {
     "data": {
      "text/plain": [
       "False"
      ]
     },
     "execution_count": 35,
     "metadata": {},
     "output_type": "execute_result"
    }
   ],
   "source": [
    "def est_premier_rapide(n):\n",
    "    premiers = [2,3,5,7,11,13,17,19]\n",
    "    for d in premiers:\n",
    "        if d^2>n:\n",
    "            return True\n",
    "        if n%d==0:\n",
    "            return False\n",
    "    raise RuntimeError(\"La liste de nombres premiers n'est pas assez longue.\")\n",
    "    \n",
    "est_premier_rapide(1145)"
   ]
  },
  {
   "cell_type": "markdown",
   "metadata": {},
   "source": [
    "Algorithme d'Euclide pour le PGCD"
   ]
  },
  {
   "cell_type": "code",
   "execution_count": 39,
   "metadata": {},
   "outputs": [
    {
     "data": {
      "text/plain": [
       "300"
      ]
     },
     "execution_count": 39,
     "metadata": {},
     "output_type": "execute_result"
    }
   ],
   "source": [
    "def Euclide(a,b):\n",
    "    if b>a:\n",
    "        a,b = b,a\n",
    "    r = a%b\n",
    "    while r!=0:\n",
    "        a = b\n",
    "        b = r\n",
    "        r = a%b\n",
    "    return b\n",
    "\n",
    "Euclide(52500, 600)"
   ]
  },
  {
   "cell_type": "markdown",
   "metadata": {},
   "source": [
    "## 12.2 - Calcul de puissances entières"
   ]
  },
  {
   "cell_type": "markdown",
   "metadata": {},
   "source": [
    "Pour \"voir défiler\" les bits d'un nombre, en commençant par le moins significatif..."
   ]
  },
  {
   "cell_type": "code",
   "execution_count": 3,
   "metadata": {},
   "outputs": [
    {
     "name": "stdout",
     "output_type": "stream",
     "text": [
      "1\n",
      "1\n",
      "0\n",
      "0\n",
      "1\n"
     ]
    }
   ],
   "source": [
    "def print_bits(e):\n",
    "    while e>0:\n",
    "        if e%2==1:\n",
    "            print(\"1\")\n",
    "        else:\n",
    "            print(\"0\")\n",
    "        e = e>>1\n",
    "print_bits(19)"
   ]
  },
  {
   "cell_type": "markdown",
   "metadata": {},
   "source": [
    "Pour calculer $n^e$:"
   ]
  },
  {
   "cell_type": "code",
   "execution_count": 7,
   "metadata": {},
   "outputs": [
    {
     "data": {
      "text/plain": [
       "177147"
      ]
     },
     "execution_count": 7,
     "metadata": {},
     "output_type": "execute_result"
    }
   ],
   "source": [
    "def puissance(n,e):\n",
    "    prod = 1\n",
    "    while e>0:\n",
    "        if e%2==1:\n",
    "            prod = prod*n\n",
    "        n = n*n\n",
    "        e = e>>1\n",
    "    return prod\n",
    "\n",
    "puissance(3,11)"
   ]
  },
  {
   "cell_type": "markdown",
   "metadata": {},
   "source": [
    "Pour calculer $n^e (\\textrm{mod } m)$:"
   ]
  },
  {
   "cell_type": "code",
   "execution_count": 46,
   "metadata": {},
   "outputs": [
    {
     "data": {
      "text/plain": [
       "9"
      ]
     },
     "execution_count": 46,
     "metadata": {},
     "output_type": "execute_result"
    }
   ],
   "source": [
    "def puissance_mod(n,e,m):\n",
    "    prod = 1\n",
    "    while e>0:\n",
    "        if e%2==1:\n",
    "            prod = (prod*n) % m\n",
    "        n = (n*n) % m\n",
    "        e = e>>1\n",
    "    return prod\n",
    "\n",
    "puissance_mod(3,11,13)"
   ]
  },
  {
   "cell_type": "code",
   "execution_count": 47,
   "metadata": {},
   "outputs": [
    {
     "data": {
      "text/plain": [
       "9"
      ]
     },
     "execution_count": 47,
     "metadata": {},
     "output_type": "execute_result"
    }
   ],
   "source": [
    "mod(3^11,13)"
   ]
  },
  {
   "cell_type": "code",
   "execution_count": null,
   "metadata": {},
   "outputs": [],
   "source": []
  }
 ],
 "metadata": {
  "kernelspec": {
   "display_name": "SageMath 9.0",
   "language": "sage",
   "name": "sagemath"
  },
  "language_info": {
   "codemirror_mode": {
    "name": "ipython",
    "version": 3
   },
   "file_extension": ".py",
   "mimetype": "text/x-python",
   "name": "python",
   "nbconvert_exporter": "python",
   "pygments_lexer": "ipython3",
   "version": "3.7.3"
  }
 },
 "nbformat": 4,
 "nbformat_minor": 2
}
