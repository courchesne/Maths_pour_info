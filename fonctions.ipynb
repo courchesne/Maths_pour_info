{
 "cells": [
  {
   "cell_type": "markdown",
   "metadata": {},
   "source": [
    "# 2.2 - Fonctions"
   ]
  },
  {
   "cell_type": "code",
   "execution_count": null,
   "metadata": {},
   "outputs": [],
   "source": [
    "print(floor(5.6432))\n",
    "print(ceil(5.6432))\n",
    "print(round(5.6432))\n",
    "print(int(5.6432))\n",
    "print(floor(-5.6432))\n",
    "print(ceil(-5.6432))\n",
    "print(round(-5.6432))\n",
    "print(int(-5.6432))"
   ]
  },
  {
   "cell_type": "markdown",
   "metadata": {},
   "source": [
    "En programmation (ici, en Python), la manière habituelle de définir une fonction est de déclarer le nom de la fonction (*carre*), ses paramètres (x), d'effectuer un calcul, puis de spécifier quelle valeur est retournée par la fonction (à l'aide du mot-clé *return*). "
   ]
  },
  {
   "cell_type": "code",
   "execution_count": null,
   "metadata": {},
   "outputs": [],
   "source": [
    "def carre(x):\n",
    "    return x*x\n",
    "\n",
    "carre(6)"
   ]
  },
  {
   "cell_type": "markdown",
   "metadata": {},
   "source": [
    "Dans un langage permettant le calcul symbolique (ici, Sage), on peut utiliser la notation mathématique:"
   ]
  },
  {
   "cell_type": "code",
   "execution_count": null,
   "metadata": {},
   "outputs": [],
   "source": [
    "f(x) = x^2\n",
    "\n",
    "print(f(5))\n",
    "t = var('t')\n",
    "print(f(t))"
   ]
  },
  {
   "cell_type": "markdown",
   "metadata": {},
   "source": [
    "Une fonction peut s'appeler elle-même. On appelle une telle fonction une *fonction récursive*."
   ]
  },
  {
   "cell_type": "code",
   "execution_count": null,
   "metadata": {},
   "outputs": [],
   "source": [
    "def fact(n):\n",
    "    if n < 0:\n",
    "        raise ValueError(\"La factorielle d'un entier négatif n'est pas définie.\")\n",
    "    elif n == 0 or n == 1:\n",
    "        return 1\n",
    "    else:\n",
    "        return n*fact(n-1)"
   ]
  },
  {
   "cell_type": "code",
   "execution_count": null,
   "metadata": {},
   "outputs": [],
   "source": [
    "fact(5)"
   ]
  },
  {
   "cell_type": "markdown",
   "metadata": {},
   "source": [
    "# 2.3 Fonctions linéaires"
   ]
  },
  {
   "cell_type": "markdown",
   "metadata": {},
   "source": [
    "Dans l'exemple ci-dessous, cliquez sur un bouton et faites-le glisser avec la souris ou les flèches du clavier pour comrendre le rôle des paramètres $a$ et $b$ dans le graphique de $y=ax+b$."
   ]
  },
  {
   "cell_type": "code",
   "execution_count": null,
   "metadata": {},
   "outputs": [],
   "source": [
    "var('x')\n",
    "@interact\n",
    "def g1(a=slider(-3, 3, .25, default=-.5), \n",
    "      b=(-5..5)):\n",
    "    p = plot(a*x+b, xmin=-10, xmax=10, ymin=-10, ymax=10)\n",
    "    show(p, aspect_ratio=1)"
   ]
  },
  {
   "cell_type": "code",
   "execution_count": null,
   "metadata": {},
   "outputs": [],
   "source": [
    "x = var('x')\n",
    "f(x) = -2*x+4\n",
    "droite = plot(f(x),(-10,10))\n",
    "droite.show()"
   ]
  },
  {
   "cell_type": "markdown",
   "metadata": {},
   "source": [
    "On veut qu'un objet (ici, un cercle) se déplace horizontalement (le long de la droite $y=4$, disons). On décide de sa trajectoire horizontale à l'aide de la formule $x_c = x_0 + v_x t$, où $x_0$ est la position ($x$) initiale, $v_x$ la vitesse horizontale et $t$ le temps (ou encore, le numéro d'image). Pour l'altitude, on pose $y_c = 4$. (L'indice $c$ veut dire \"cercle\".) Dans l'exemple qui suit, le temps va de 0 à 9, le cercle commence à -8 en $x$ et avance de 2 unités par image. La formule donnant la position du cercle est donc $x_c=-8+2t$."
   ]
  },
  {
   "cell_type": "code",
   "execution_count": null,
   "metadata": {},
   "outputs": [],
   "source": [
    "images = []\n",
    "for t in range(10):\n",
    "    xc = -8+2*t\n",
    "    yc = 4\n",
    "    cercle = circle((xc, yc), 1)\n",
    "    images.append(cercle)\n",
    "\n",
    "anim = animate(images,xmin=-10,xmax=10,ymin=-10,ymax=10)\n",
    "anim.show()"
   ]
  },
  {
   "cell_type": "markdown",
   "metadata": {},
   "source": [
    "# 2.4 Fonctions quadratiques"
   ]
  },
  {
   "cell_type": "code",
   "execution_count": null,
   "metadata": {},
   "outputs": [],
   "source": [
    "@interact\n",
    "def g2(a=slider(-2, 2, .5, default=-.5),\n",
    "       b=slider(-5, 5, 1, default=3),\n",
    "       c=slider(-5, 5, 1, default=2)):\n",
    "    p = plot(a*x^2+b*x+c, xmin=-10, xmax=10, ymin=-10, ymax=10)\n",
    "    show(p, aspect_ratio=1)"
   ]
  },
  {
   "cell_type": "code",
   "execution_count": null,
   "metadata": {},
   "outputs": [],
   "source": [
    "@interact\n",
    "def g2(a=slider(-2, 2, .5, default=-.5),\n",
    "       h=slider(-5, 5, 1, default=3),\n",
    "       k=slider(-5, 5, 1, default=2)):\n",
    "    p = plot(a*(x-h)^2+k, xmin=-10, xmax=10, ymin=-10, ymax=10)\n",
    "    show(p, aspect_ratio=1)"
   ]
  },
  {
   "cell_type": "code",
   "execution_count": null,
   "metadata": {},
   "outputs": [],
   "source": [
    "x = var('x')\n",
    "g(x) = -2*(x-3)^2+12\n",
    "parabole = plot(g(x), (0,6))\n",
    "parabole.show()"
   ]
  },
  {
   "cell_type": "markdown",
   "metadata": {},
   "source": [
    "On veut maintenant qu'un cerlce se déplace avec une vitesse horizontale constante (0.5 unité/image) à partir de $x=1$ tout en restant sur la parabole. Le truc pour que le cerlce reste sur une fonction $g(x)$ donnée est de calculer d'abord $x_c$ comme à la section précédente ($x_c = x_0 + v_x t$), puis de poser $y_c = g(x_c)$."
   ]
  },
  {
   "cell_type": "code",
   "execution_count": null,
   "metadata": {},
   "outputs": [],
   "source": [
    "images = []\n",
    "for t in range(10):\n",
    "    xc = 1+0.5*t\n",
    "    yc = g(xc)\n",
    "    cercle = circle((xc, yc), 1)\n",
    "    images.append(cercle + parabole)\n",
    "\n",
    "anim = animate(images,xmin=0,xmax=6,ymin=-6,ymax=12)\n",
    "#anim.show()"
   ]
  },
  {
   "cell_type": "code",
   "execution_count": null,
   "metadata": {},
   "outputs": [],
   "source": [
    "zeros = solve(g(x)==0,x)\n",
    "print(zeros)"
   ]
  },
  {
   "cell_type": "code",
   "execution_count": null,
   "metadata": {},
   "outputs": [],
   "source": [
    "for z in zeros:\n",
    "    print(N(z.right()))"
   ]
  },
  {
   "cell_type": "markdown",
   "metadata": {},
   "source": [
    "Pour se rendre d'un zéro à l'autre en 10 images (9 déplacements), on prend $x_0 = 0.55$ et $\\displaystyle v_x = \\frac{\\Delta x}{\\Delta t} = \\frac{5.44-0.55}{9}$."
   ]
  },
  {
   "cell_type": "code",
   "execution_count": null,
   "metadata": {},
   "outputs": [],
   "source": [
    "images = []\n",
    "vx = (5.44-0.55)/9\n",
    "for t in range(10):\n",
    "    xc = 0.55+vx*t\n",
    "    yc = g(xc)\n",
    "    cercle = circle((xc, yc), 1)\n",
    "    images.append(cercle + parabole)\n",
    "\n",
    "anim = animate(images,xmin=0,xmax=6,ymin=-6,ymax=12)\n",
    "anim.show()"
   ]
  },
  {
   "cell_type": "code",
   "execution_count": null,
   "metadata": {},
   "outputs": [],
   "source": []
  }
 ],
 "metadata": {
  "kernelspec": {
   "display_name": "SageMath 9.0",
   "language": "sage",
   "name": "sagemath"
  },
  "language_info": {
   "codemirror_mode": {
    "name": "ipython",
    "version": 3
   },
   "file_extension": ".py",
   "mimetype": "text/x-python",
   "name": "python",
   "nbconvert_exporter": "python",
   "pygments_lexer": "ipython3",
   "version": "3.7.3"
  }
 },
 "nbformat": 4,
 "nbformat_minor": 2
}
